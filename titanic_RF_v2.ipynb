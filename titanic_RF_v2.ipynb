{
 "cells": [
  {
   "cell_type": "code",
   "execution_count": 419,
   "metadata": {},
   "outputs": [],
   "source": [
    "import pandas as pd\n",
    "import numpy as np\n",
    "from sklearn.model_selection import train_test_split, cross_val_score\n",
    "from sklearn.metrics import accuracy_score\n",
    "from sklearn.preprocessing import FunctionTransformer, OneHotEncoder, LabelEncoder\n",
    "from sklearn.pipeline import Pipeline\n",
    "from sklearn.compose import ColumnTransformer\n",
    "from sklearn.ensemble import RandomForestClassifier"
   ]
  },
  {
   "cell_type": "code",
   "execution_count": 420,
   "metadata": {},
   "outputs": [],
   "source": [
    "df_train = pd.read_csv(\"train.csv\")\n",
    "df_test = pd.read_csv(\"test.csv\")\n",
    "\n",
    "df_all = pd.concat([df_train, df_test])"
   ]
  },
  {
   "cell_type": "code",
   "execution_count": 421,
   "metadata": {},
   "outputs": [],
   "source": [
    "# Add Surnames\n",
    "surnames = df_all.Name.map(lambda x: str(x).split(\",\")[0].strip())\n",
    "df_all = pd.concat([df_all,surnames.rename('Surname')], axis = 1)"
   ]
  },
  {
   "cell_type": "code",
   "execution_count": 422,
   "metadata": {},
   "outputs": [],
   "source": [
    "# Add Titles\n",
    "titles = df_all.Name.map(lambda x: str(x).split(\".\")[0].split(\",\")[1].strip())\n",
    "titles = titles.map(lambda x: \"Richboys\" if (x in ['Dr', 'Rev', 'Col', 'Major', 'Jonkheer', 'Don', 'Sir', 'Capt']) else x)\n",
    "titles = titles.map(lambda x: \"Richgals\" if x in ['Mlle', 'the Countess', 'Lady', 'Mme', 'Dona'] else x)\n",
    "titles = titles.map(lambda x: \"Miss\" if x in ['Ms'] else x)\n",
    "df_all = pd.concat([df_all,titles.rename('Title')], axis = 1)"
   ]
  },
  {
   "cell_type": "code",
   "execution_count": 423,
   "metadata": {},
   "outputs": [],
   "source": [
    "# Add Deck \n",
    "deck = df_all.Cabin.map(lambda x: str(x)[:1] if str(x) != \"nan\" else \"M\")\n",
    "df_all = pd.concat([df_all, deck.rename('Deck')], axis = 1)\n",
    "df_all['Deck'] = df_all['Deck'].replace(['A', 'B', 'C', 'T'], 'ABC')\n",
    "df_all['Deck'] = df_all['Deck'].replace(['D', 'E'], 'DE')\n",
    "df_all['Deck'] = df_all['Deck'].replace(['F', 'G'], 'FG')"
   ]
  },
  {
   "cell_type": "code",
   "execution_count": 424,
   "metadata": {},
   "outputs": [],
   "source": [
    "# Add Family Size\n",
    "fam_size = df_all.SibSp + df_all.Parch + 1\n",
    "df_all = pd.concat([df_all, fam_size.rename('Family Size')], axis = 1)"
   ]
  },
  {
   "cell_type": "code",
   "execution_count": 425,
   "metadata": {},
   "outputs": [],
   "source": [
    "# Add Ticket Frequency\n",
    "ticket_freq = df_all.Ticket.map(lambda x: df_all.Ticket.value_counts().loc[x])\n",
    "df_all = pd.concat([df_all, ticket_freq.rename('Ticket_Frequency')], axis = 1)"
   ]
  },
  {
   "cell_type": "code",
   "execution_count": 426,
   "metadata": {},
   "outputs": [],
   "source": [
    "df_all.Embarked.fillna('C', inplace = True)"
   ]
  },
  {
   "cell_type": "code",
   "execution_count": 427,
   "metadata": {},
   "outputs": [],
   "source": [
    "# Columns to use\n",
    "good_cols = ['Pclass', 'Sex', 'Age', 'Embarked', 'Title', 'Deck', 'Family Size', 'Ticket_Frequency']\n",
    "categorical_cols = ['Pclass', 'Sex', 'Deck', 'Title', 'Embarked']"
   ]
  },
  {
   "cell_type": "code",
   "execution_count": 428,
   "metadata": {},
   "outputs": [],
   "source": [
    "# Convert string features to categories\n",
    "\n",
    "# df_all[categorical_cols] = df_all[categorical_cols].apply(lambda x: x.astype(\"category\"), axis = 0)\n",
    "\n",
    "for c in categorical_cols:\n",
    "    df_all[c] = pd.factorize(df_all[c])[0]+1"
   ]
  },
  {
   "cell_type": "code",
   "execution_count": 429,
   "metadata": {},
   "outputs": [],
   "source": [
    "# Split into training and dev\n",
    "df = df_all.iloc[:len(df_train)]\n",
    "df_test = df_all.iloc[len(df_train):]\n"
   ]
  },
  {
   "cell_type": "code",
   "execution_count": 430,
   "metadata": {},
   "outputs": [],
   "source": [
    "# Age\n",
    "def age_filler(local_df):\n",
    "    median_ages = local_df.groupby([\"Title\", \"Pclass\"]).Age.transform(\"median\")\n",
    "    local_df.Age = local_df.Age.fillna(median_ages)\n",
    "    return local_df\n",
    "\n",
    "age_transformer = FunctionTransformer(age_filler)"
   ]
  },
  {
   "cell_type": "code",
   "execution_count": 431,
   "metadata": {},
   "outputs": [],
   "source": [
    "# Preprocessor\n",
    "\n",
    "categorical_transformer = Pipeline(steps=[\n",
    "    ('onehot', OneHotEncoder(handle_unknown='ignore'))\n",
    "])\n",
    "\n",
    "preprocessor = ColumnTransformer(\n",
    "    transformers=[\n",
    "         ('age_filler', age_transformer, [\"Title\", \"Age\", \"Pclass\"]),\n",
    "         ('cat', categorical_transformer, categorical_cols),\n",
    "\n",
    "    ])"
   ]
  },
  {
   "cell_type": "code",
   "execution_count": 448,
   "metadata": {},
   "outputs": [],
   "source": [
    "X = df[good_cols]\n",
    "y = df['Survived'].astype('category')"
   ]
  },
  {
   "cell_type": "code",
   "execution_count": 449,
   "metadata": {},
   "outputs": [],
   "source": [
    "def get_score(n_estimators):\n",
    "    model = RandomForestClassifier(n_estimators=n_estimators, random_state=0)\n",
    "    my_pipeline = Pipeline(steps = [('preprocessor', preprocessor),\n",
    "                                ('model', model)\n",
    "                               ])\n",
    "    scores = cross_val_score(my_pipeline, X, y, cv = 5, scoring = 'accuracy')\n",
    "    return scores.mean()"
   ]
  },
  {
   "cell_type": "code",
   "execution_count": 450,
   "metadata": {},
   "outputs": [],
   "source": [
    "# results = { i: get_score(i, X,y) for i in range(1,400, 50)}\n",
    "# results = pd.DataFrame([get_score(i) for i in range(1,400, 50)], list(range(1,400, 50)), )"
   ]
  },
  {
   "cell_type": "code",
   "execution_count": 454,
   "metadata": {},
   "outputs": [
    {
     "data": {
      "text/plain": [
       "<matplotlib.axes._subplots.AxesSubplot at 0x121048710>"
      ]
     },
     "execution_count": 454,
     "metadata": {},
     "output_type": "execute_result"
    },
    {
     "data": {
      "image/png": "[encoded data removed]",
      "text/plain": [
       "<Figure size 432x288 with 1 Axes>"
      ]
     },
     "metadata": {
      "needs_background": "light"
     },
     "output_type": "display_data"
    }
   ],
   "source": [
    "import seaborn as sns\n",
    "\n",
    "sns.lineplot(x = list(range(200,600, 20)), y = [get_score(i) for i in list(range(200,600, 20))])"
   ]
  },
  {
   "cell_type": "markdown",
   "metadata": {},
   "source": [
    "We can see that 400 is the best. Let's make the actual predictions now. "
   ]
  },
  {
   "cell_type": "code",
   "execution_count": 462,
   "metadata": {},
   "outputs": [
    {
     "data": {
      "text/plain": [
       "Pipeline(steps=[('preprocessor',\n",
       "                 ColumnTransformer(transformers=[('age_filler',\n",
       "                                                  FunctionTransformer(func=<function age_filler at 0x11fed6ae8>),\n",
       "                                                  ['Title', 'Age', 'Pclass']),\n",
       "                                                 ('cat',\n",
       "                                                  Pipeline(steps=[('onehot',\n",
       "                                                                   OneHotEncoder(handle_unknown='ignore'))]),\n",
       "                                                  ['Pclass', 'Sex', 'Deck',\n",
       "                                                   'Title', 'Embarked'])])),\n",
       "                ('model',\n",
       "                 RandomForestClassifier(n_estimators=430, random_state=0))])"
      ]
     },
     "execution_count": 462,
     "metadata": {},
     "output_type": "execute_result"
    }
   ],
   "source": [
    "model = RandomForestClassifier(430, random_state=0)\n",
    "my_pipeline = Pipeline(steps = [('preprocessor', preprocessor),\n",
    "                            ('model', model)\n",
    "                           ])\n",
    "my_pipeline.fit(X,y)"
   ]
  },
  {
   "cell_type": "code",
   "execution_count": 463,
   "metadata": {},
   "outputs": [],
   "source": [
    "predictions = my_pipeline.predict(df_test[good_cols])"
   ]
  },
  {
   "cell_type": "code",
   "execution_count": 464,
   "metadata": {},
   "outputs": [],
   "source": [
    "output = pd.DataFrame({'Id': df_test.PassengerId,\n",
    "                       'Survived': predictions.astype(\"int64\")})\n",
    "output.to_csv('submission.csv', index=False)"
   ]
  },
  {
   "cell_type": "code",
   "execution_count": null,
   "metadata": {},
   "outputs": [],
   "source": []
  }
 ],
 "metadata": {
  "kernelspec": {
   "display_name": "venv",
   "language": "python",
   "name": "venv"
  },
  "language_info": {
   "codemirror_mode": {
    "name": "ipython",
    "version": 3
   },
   "file_extension": ".py",
   "mimetype": "text/x-python",
   "name": "python",
   "nbconvert_exporter": "python",
   "pygments_lexer": "ipython3",
   "version": "3.6.1"
  }
 },
 "nbformat": 4,
 "nbformat_minor": 4
}
