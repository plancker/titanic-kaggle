{
 "cells": [
  {
   "cell_type": "code",
   "execution_count": 8,
   "metadata": {},
   "outputs": [],
   "source": [
    "import pandas as pd\n",
    "from sklearn.model_selection import train_test_split\n",
    "import numpy as np\n",
    "import seaborn as sns\n",
    "import matplotlib.pyplot as plt\n",
    "from sklearn.pipeline import Pipeline\n",
    "from scipy.stats import chi2_contingency"
   ]
  },
  {
   "cell_type": "code",
   "execution_count": 23,
   "metadata": {},
   "outputs": [
    {
     "name": "stdout",
     "output_type": "stream",
     "text": [
      "<class 'pandas.core.frame.DataFrame'>\n",
      "Int64Index: 891 entries, 0 to 890\n",
      "Data columns (total 15 columns):\n",
      " #   Column       Non-Null Count  Dtype   \n",
      "---  ------       --------------  -----   \n",
      " 0   PassengerId  891 non-null    int64   \n",
      " 1   Survived     891 non-null    category\n",
      " 2   Pclass       891 non-null    category\n",
      " 3   Name         891 non-null    object  \n",
      " 4   Sex          891 non-null    category\n",
      " 5   Age          714 non-null    float64 \n",
      " 6   SibSp        891 non-null    int64   \n",
      " 7   Parch        891 non-null    int64   \n",
      " 8   Ticket       891 non-null    category\n",
      " 9   Fare         891 non-null    float64 \n",
      " 10  Cabin        204 non-null    category\n",
      " 11  Embarked     889 non-null    category\n",
      " 12  Surname      891 non-null    category\n",
      " 13  Deck         204 non-null    object  \n",
      " 14  Title        891 non-null    category\n",
      "dtypes: category(8), float64(2), int64(3), object(2)\n",
      "memory usage: 166.4+ KB\n"
     ]
    },
    {
     "data": {
      "text/html": [
       "<div>\n",
       "<style scoped>\n",
       "    .dataframe tbody tr th:only-of-type {\n",
       "        vertical-align: middle;\n",
       "    }\n",
       "\n",
       "    .dataframe tbody tr th {\n",
       "        vertical-align: top;\n",
       "    }\n",
       "\n",
       "    .dataframe thead th {\n",
       "        text-align: right;\n",
       "    }\n",
       "</style>\n",
       "<table border=\"1\" class=\"dataframe\">\n",
       "  <thead>\n",
       "    <tr style=\"text-align: right;\">\n",
       "      <th></th>\n",
       "      <th>PassengerId</th>\n",
       "      <th>Survived</th>\n",
       "      <th>Pclass</th>\n",
       "      <th>Name</th>\n",
       "      <th>Sex</th>\n",
       "      <th>Age</th>\n",
       "      <th>SibSp</th>\n",
       "      <th>Parch</th>\n",
       "      <th>Ticket</th>\n",
       "      <th>Fare</th>\n",
       "      <th>Cabin</th>\n",
       "      <th>Embarked</th>\n",
       "      <th>Surname</th>\n",
       "      <th>Deck</th>\n",
       "      <th>Title</th>\n",
       "    </tr>\n",
       "  </thead>\n",
       "  <tbody>\n",
       "    <tr>\n",
       "      <th>0</th>\n",
       "      <td>1</td>\n",
       "      <td>0.0</td>\n",
       "      <td>3</td>\n",
       "      <td>Braund, Mr. Owen Harris</td>\n",
       "      <td>male</td>\n",
       "      <td>22.0</td>\n",
       "      <td>1</td>\n",
       "      <td>0</td>\n",
       "      <td>A/5 21171</td>\n",
       "      <td>7.2500</td>\n",
       "      <td>NaN</td>\n",
       "      <td>S</td>\n",
       "      <td>Braund</td>\n",
       "      <td>NaN</td>\n",
       "      <td>Mr</td>\n",
       "    </tr>\n",
       "    <tr>\n",
       "      <th>1</th>\n",
       "      <td>2</td>\n",
       "      <td>1.0</td>\n",
       "      <td>1</td>\n",
       "      <td>Cumings, Mrs. John Bradley (Florence Briggs Th...</td>\n",
       "      <td>female</td>\n",
       "      <td>38.0</td>\n",
       "      <td>1</td>\n",
       "      <td>0</td>\n",
       "      <td>PC 17599</td>\n",
       "      <td>71.2833</td>\n",
       "      <td>C85</td>\n",
       "      <td>C</td>\n",
       "      <td>Cumings</td>\n",
       "      <td>C</td>\n",
       "      <td>Mrs</td>\n",
       "    </tr>\n",
       "    <tr>\n",
       "      <th>2</th>\n",
       "      <td>3</td>\n",
       "      <td>1.0</td>\n",
       "      <td>3</td>\n",
       "      <td>Heikkinen, Miss. Laina</td>\n",
       "      <td>female</td>\n",
       "      <td>26.0</td>\n",
       "      <td>0</td>\n",
       "      <td>0</td>\n",
       "      <td>STON/O2. 3101282</td>\n",
       "      <td>7.9250</td>\n",
       "      <td>NaN</td>\n",
       "      <td>S</td>\n",
       "      <td>Heikkinen</td>\n",
       "      <td>NaN</td>\n",
       "      <td>Miss</td>\n",
       "    </tr>\n",
       "    <tr>\n",
       "      <th>3</th>\n",
       "      <td>4</td>\n",
       "      <td>1.0</td>\n",
       "      <td>1</td>\n",
       "      <td>Futrelle, Mrs. Jacques Heath (Lily May Peel)</td>\n",
       "      <td>female</td>\n",
       "      <td>35.0</td>\n",
       "      <td>1</td>\n",
       "      <td>0</td>\n",
       "      <td>113803</td>\n",
       "      <td>53.1000</td>\n",
       "      <td>C123</td>\n",
       "      <td>S</td>\n",
       "      <td>Futrelle</td>\n",
       "      <td>C</td>\n",
       "      <td>Mrs</td>\n",
       "    </tr>\n",
       "    <tr>\n",
       "      <th>4</th>\n",
       "      <td>5</td>\n",
       "      <td>0.0</td>\n",
       "      <td>3</td>\n",
       "      <td>Allen, Mr. William Henry</td>\n",
       "      <td>male</td>\n",
       "      <td>35.0</td>\n",
       "      <td>0</td>\n",
       "      <td>0</td>\n",
       "      <td>373450</td>\n",
       "      <td>8.0500</td>\n",
       "      <td>NaN</td>\n",
       "      <td>S</td>\n",
       "      <td>Allen</td>\n",
       "      <td>NaN</td>\n",
       "      <td>Mr</td>\n",
       "    </tr>\n",
       "  </tbody>\n",
       "</table>\n",
       "</div>"
      ],
      "text/plain": [
       "   PassengerId Survived Pclass  \\\n",
       "0            1      0.0      3   \n",
       "1            2      1.0      1   \n",
       "2            3      1.0      3   \n",
       "3            4      1.0      1   \n",
       "4            5      0.0      3   \n",
       "\n",
       "                                                Name     Sex   Age  SibSp  \\\n",
       "0                            Braund, Mr. Owen Harris    male  22.0      1   \n",
       "1  Cumings, Mrs. John Bradley (Florence Briggs Th...  female  38.0      1   \n",
       "2                             Heikkinen, Miss. Laina  female  26.0      0   \n",
       "3       Futrelle, Mrs. Jacques Heath (Lily May Peel)  female  35.0      1   \n",
       "4                           Allen, Mr. William Henry    male  35.0      0   \n",
       "\n",
       "   Parch            Ticket     Fare Cabin Embarked    Surname Deck Title  \n",
       "0      0         A/5 21171   7.2500   NaN        S     Braund  NaN    Mr  \n",
       "1      0          PC 17599  71.2833   C85        C    Cumings    C   Mrs  \n",
       "2      0  STON/O2. 3101282   7.9250   NaN        S  Heikkinen  NaN  Miss  \n",
       "3      0            113803  53.1000  C123        S   Futrelle    C   Mrs  \n",
       "4      0            373450   8.0500   NaN        S      Allen  NaN    Mr  "
      ]
     },
     "execution_count": 23,
     "metadata": {},
     "output_type": "execute_result"
    }
   ],
   "source": [
    "df_train = pd.read_csv(\"train.csv\")\n",
    "df_test = pd.read_csv(\"test.csv\")\n",
    "\n",
    "df = pd.concat([df_train, df_test])\n",
    "\n",
    "surnames = df.Name.map(lambda x: str(x).split(\",\")[0].strip())\n",
    "df = pd.concat([df,surnames.rename('Surname')], axis = 1)\n",
    "\n",
    "titles = df.Name.map(lambda x: str(x).split(\".\")[0].split(\",\")[1].strip())\n",
    "titles = titles.map(lambda x: \"Richboys\" if (x in ['Dr', 'Rev', 'Col', 'Major', 'Jonkheer', 'Don', 'Sir', 'Capt']) else x)\n",
    "titles = titles.map(lambda x: \"Richgals\" if x in ['Mlle', 'the Countess', 'Lady', 'Mme', 'Dona'] else x)\n",
    "titles = titles.map(lambda x: \"Miss\" if x in ['Ms'] else x)\n",
    "\n",
    "deck = df.Cabin.map(lambda x: str(x)[:1] if str(x) != \"nan\" else x)\n",
    "df = pd.concat([df, deck.rename('Deck')], axis = 1)\n",
    "\n",
    "df = pd.concat([df,titles.rename('Title')], axis = 1)\n",
    "\n",
    "categorical = [\"Survived\", \"Pclass\", \"Sex\", \"Ticket\", \"Cabin\", \"Embarked\", \"Surname\", \"Title\", \"Deck\"]\n",
    "df[categorical] = df[categorical].apply(lambda x: x.astype(\"category\"), axis = 0)\n",
    "\n",
    "df = df.iloc[:len(df_train)]\n",
    "df_test = df.iloc[len(df_train):]\n",
    "\n",
    "df_train, df_dev = train_test_split(df)\n",
    "df.info()\n",
    "df.head()"
   ]
  },
  {
   "cell_type": "markdown",
   "metadata": {},
   "source": []
  },
  {
   "cell_type": "markdown",
   "metadata": {},
   "source": [
    "We extract the surnames and titles."
   ]
  },
  {
   "cell_type": "markdown",
   "metadata": {},
   "source": [
    "Observations:\n",
    "1. Embarked, Age, and Cabin are progressively worse in terms of missing values. "
   ]
  },
  {
   "cell_type": "code",
   "execution_count": 144,
   "metadata": {
    "collapsed": true,
    "jupyter": {
     "outputs_hidden": true
    }
   },
   "outputs": [
    {
     "data": {
      "text/html": [
       "<div>\n",
       "<style scoped>\n",
       "    .dataframe tbody tr th:only-of-type {\n",
       "        vertical-align: middle;\n",
       "    }\n",
       "\n",
       "    .dataframe tbody tr th {\n",
       "        vertical-align: top;\n",
       "    }\n",
       "\n",
       "    .dataframe thead th {\n",
       "        text-align: right;\n",
       "    }\n",
       "</style>\n",
       "<table border=\"1\" class=\"dataframe\">\n",
       "  <thead>\n",
       "    <tr style=\"text-align: right;\">\n",
       "      <th></th>\n",
       "      <th>PassengerId</th>\n",
       "      <th>Survived</th>\n",
       "      <th>Pclass</th>\n",
       "      <th>Name</th>\n",
       "      <th>Sex</th>\n",
       "      <th>Age</th>\n",
       "      <th>SibSp</th>\n",
       "      <th>Parch</th>\n",
       "      <th>Ticket</th>\n",
       "      <th>Fare</th>\n",
       "      <th>Cabin</th>\n",
       "      <th>Embarked</th>\n",
       "      <th>Surname</th>\n",
       "      <th>Title</th>\n",
       "    </tr>\n",
       "  </thead>\n",
       "  <tbody>\n",
       "    <tr>\n",
       "      <th>61</th>\n",
       "      <td>62</td>\n",
       "      <td>1.0</td>\n",
       "      <td>1</td>\n",
       "      <td>Icard, Miss. Amelie</td>\n",
       "      <td>female</td>\n",
       "      <td>38.0</td>\n",
       "      <td>0</td>\n",
       "      <td>0</td>\n",
       "      <td>113572</td>\n",
       "      <td>80.0</td>\n",
       "      <td>B28</td>\n",
       "      <td>NaN</td>\n",
       "      <td>Icard</td>\n",
       "      <td>Miss</td>\n",
       "    </tr>\n",
       "    <tr>\n",
       "      <th>829</th>\n",
       "      <td>830</td>\n",
       "      <td>1.0</td>\n",
       "      <td>1</td>\n",
       "      <td>Stone, Mrs. George Nelson (Martha Evelyn)</td>\n",
       "      <td>female</td>\n",
       "      <td>62.0</td>\n",
       "      <td>0</td>\n",
       "      <td>0</td>\n",
       "      <td>113572</td>\n",
       "      <td>80.0</td>\n",
       "      <td>B28</td>\n",
       "      <td>NaN</td>\n",
       "      <td>Stone</td>\n",
       "      <td>Mrs</td>\n",
       "    </tr>\n",
       "  </tbody>\n",
       "</table>\n",
       "</div>"
      ],
      "text/plain": [
       "     PassengerId Survived Pclass                                       Name  \\\n",
       "61            62      1.0      1                        Icard, Miss. Amelie   \n",
       "829          830      1.0      1  Stone, Mrs. George Nelson (Martha Evelyn)   \n",
       "\n",
       "        Sex   Age  SibSp  Parch  Ticket  Fare Cabin Embarked Surname  Title  \n",
       "61   female  38.0      0      0  113572  80.0   B28      NaN   Icard   Miss  \n",
       "829  female  62.0      0      0  113572  80.0   B28      NaN   Stone    Mrs  "
      ]
     },
     "execution_count": 144,
     "metadata": {},
     "output_type": "execute_result"
    }
   ],
   "source": [
    "df.loc[pd.isnull(df.Embarked)]"
   ]
  },
  {
   "cell_type": "markdown",
   "metadata": {},
   "source": [
    "We see that both the records with missing Embarked values are from the same ticket. We could try to infer it using other params. Pclass, Cabin, and Fare are most likely to be linked to Embarked. Let's see Pclass vs Embarked and Cabin vs Embarked"
   ]
  },
  {
   "cell_type": "code",
   "execution_count": 145,
   "metadata": {
    "collapsed": true,
    "jupyter": {
     "outputs_hidden": true
    }
   },
   "outputs": [
    {
     "data": {
      "image/png": "[encoded data removed]",
      "text/plain": [
       "<Figure size 432x288 with 1 Axes>"
      ]
     },
     "metadata": {
      "needs_background": "light"
     },
     "output_type": "display_data"
    }
   ],
   "source": [
    "pd.crosstab(index = df_train.Embarked, columns = df_train.Pclass).plot.bar(stacked = True)\n",
    "plt.show()"
   ]
  },
  {
   "cell_type": "markdown",
   "metadata": {},
   "source": [
    "We can see here that a person in Pclass 1 is very unlikely to come from Q. Hence, we can narrow down the Embarked for these two C or S. \n",
    "\n",
    "Next, we investigate if Cabin can give us information."
   ]
  },
  {
   "cell_type": "code",
   "execution_count": 146,
   "metadata": {
    "collapsed": true,
    "jupyter": {
     "outputs_hidden": true
    }
   },
   "outputs": [
    {
     "data": {
      "text/html": [
       "<div>\n",
       "<style scoped>\n",
       "    .dataframe tbody tr th:only-of-type {\n",
       "        vertical-align: middle;\n",
       "    }\n",
       "\n",
       "    .dataframe tbody tr th {\n",
       "        vertical-align: top;\n",
       "    }\n",
       "\n",
       "    .dataframe thead th {\n",
       "        text-align: right;\n",
       "    }\n",
       "</style>\n",
       "<table border=\"1\" class=\"dataframe\">\n",
       "  <thead>\n",
       "    <tr style=\"text-align: right;\">\n",
       "      <th></th>\n",
       "      <th>PassengerId</th>\n",
       "      <th>Survived</th>\n",
       "      <th>Pclass</th>\n",
       "      <th>Name</th>\n",
       "      <th>Sex</th>\n",
       "      <th>Age</th>\n",
       "      <th>SibSp</th>\n",
       "      <th>Parch</th>\n",
       "      <th>Ticket</th>\n",
       "      <th>Fare</th>\n",
       "      <th>Cabin</th>\n",
       "      <th>Embarked</th>\n",
       "      <th>Surname</th>\n",
       "      <th>Title</th>\n",
       "    </tr>\n",
       "  </thead>\n",
       "  <tbody>\n",
       "    <tr>\n",
       "      <th>61</th>\n",
       "      <td>62</td>\n",
       "      <td>1.0</td>\n",
       "      <td>1</td>\n",
       "      <td>Icard, Miss. Amelie</td>\n",
       "      <td>female</td>\n",
       "      <td>38.0</td>\n",
       "      <td>0</td>\n",
       "      <td>0</td>\n",
       "      <td>113572</td>\n",
       "      <td>80.0</td>\n",
       "      <td>B28</td>\n",
       "      <td>NaN</td>\n",
       "      <td>Icard</td>\n",
       "      <td>Miss</td>\n",
       "    </tr>\n",
       "    <tr>\n",
       "      <th>829</th>\n",
       "      <td>830</td>\n",
       "      <td>1.0</td>\n",
       "      <td>1</td>\n",
       "      <td>Stone, Mrs. George Nelson (Martha Evelyn)</td>\n",
       "      <td>female</td>\n",
       "      <td>62.0</td>\n",
       "      <td>0</td>\n",
       "      <td>0</td>\n",
       "      <td>113572</td>\n",
       "      <td>80.0</td>\n",
       "      <td>B28</td>\n",
       "      <td>NaN</td>\n",
       "      <td>Stone</td>\n",
       "      <td>Mrs</td>\n",
       "    </tr>\n",
       "  </tbody>\n",
       "</table>\n",
       "</div>"
      ],
      "text/plain": [
       "     PassengerId Survived Pclass                                       Name  \\\n",
       "61            62      1.0      1                        Icard, Miss. Amelie   \n",
       "829          830      1.0      1  Stone, Mrs. George Nelson (Martha Evelyn)   \n",
       "\n",
       "        Sex   Age  SibSp  Parch  Ticket  Fare Cabin Embarked Surname  Title  \n",
       "61   female  38.0      0      0  113572  80.0   B28      NaN   Icard   Miss  \n",
       "829  female  62.0      0      0  113572  80.0   B28      NaN   Stone    Mrs  "
      ]
     },
     "execution_count": 146,
     "metadata": {},
     "output_type": "execute_result"
    }
   ],
   "source": [
    "df.loc[df.Cabin == 'B28']"
   ]
  },
  {
   "cell_type": "code",
   "execution_count": 147,
   "metadata": {
    "collapsed": true,
    "jupyter": {
     "outputs_hidden": true
    }
   },
   "outputs": [
    {
     "data": {
      "text/plain": [
       "B96 B98            4\n",
       "G6                 4\n",
       "C23 C25 C27        4\n",
       "F33                3\n",
       "F2                 3\n",
       "C22 C26            3\n",
       "E101               3\n",
       "D                  3\n",
       "D35                2\n",
       "D20                2\n",
       "D26                2\n",
       "D33                2\n",
       "B77                2\n",
       "C52                2\n",
       "D36                2\n",
       "B58 B60            2\n",
       "D17                2\n",
       "B5                 2\n",
       "B49                2\n",
       "B51 B53 B55        2\n",
       "C92                2\n",
       "C93                2\n",
       "E121               2\n",
       "C123               2\n",
       "C124               2\n",
       "C125               2\n",
       "C83                2\n",
       "C126               2\n",
       "C78                2\n",
       "C2                 2\n",
       "C68                2\n",
       "C65                2\n",
       "B35                2\n",
       "B57 B59 B63 B66    2\n",
       "B28                2\n",
       "F G73              2\n",
       "B18                2\n",
       "E8                 2\n",
       "E67                2\n",
       "B20                2\n",
       "B22                2\n",
       "E33                2\n",
       "E44                2\n",
       "E24                2\n",
       "F4                 2\n",
       "E25                2\n",
       "C110               1\n",
       "A32                1\n",
       "A24                1\n",
       "C111               1\n",
       "C118               1\n",
       "A34                1\n",
       "A31                1\n",
       "A26                1\n",
       "C106               1\n",
       "B30                1\n",
       "C148               1\n",
       "C128               1\n",
       "A23                1\n",
       "C103               1\n",
       "A20                1\n",
       "A19                1\n",
       "A16                1\n",
       "A14                1\n",
       "C30                1\n",
       "C32                1\n",
       "C45                1\n",
       "C46                1\n",
       "C104               1\n",
       "B94                1\n",
       "A36                1\n",
       "C101               1\n",
       "B3                 1\n",
       "B37                1\n",
       "B38                1\n",
       "B39                1\n",
       "B4                 1\n",
       "B41                1\n",
       "B42                1\n",
       "B50                1\n",
       "C49                1\n",
       "B69                1\n",
       "B71                1\n",
       "B73                1\n",
       "B19                1\n",
       "B102               1\n",
       "B78                1\n",
       "B79                1\n",
       "B101               1\n",
       "B80                1\n",
       "B82 B84            1\n",
       "A7                 1\n",
       "B86                1\n",
       "A6                 1\n",
       "A5                 1\n",
       "C47                1\n",
       "T                  1\n",
       "C50                1\n",
       "E31                1\n",
       "D37                1\n",
       "D45                1\n",
       "D46                1\n",
       "D48                1\n",
       "D49                1\n",
       "D50                1\n",
       "D56                1\n",
       "D6                 1\n",
       "D7                 1\n",
       "D9                 1\n",
       "E10                1\n",
       "E12                1\n",
       "E17                1\n",
       "E34                1\n",
       "D28                1\n",
       "E36                1\n",
       "E38                1\n",
       "E40                1\n",
       "E46                1\n",
       "E49                1\n",
       "E50                1\n",
       "E58                1\n",
       "E63                1\n",
       "E68                1\n",
       "E77                1\n",
       "F E69              1\n",
       "F G63              1\n",
       "F38                1\n",
       "D30                1\n",
       "D47                1\n",
       "A10                1\n",
       "C99                1\n",
       "C7                 1\n",
       "C62 C64            1\n",
       "D21                1\n",
       "C82                1\n",
       "C85                1\n",
       "C86                1\n",
       "C87                1\n",
       "C90                1\n",
       "C91                1\n",
       "C70                1\n",
       "C95                1\n",
       "D19                1\n",
       "D10 D12            1\n",
       "D11                1\n",
       "D15                1\n",
       "C54                1\n",
       "A21                0\n",
       "C53                0\n",
       "A9                 0\n",
       "A11                0\n",
       "E52                0\n",
       "C6                 0\n",
       "E60                0\n",
       "A18                0\n",
       "C39                0\n",
       "F E46              0\n",
       "C28                0\n",
       "C55 C57            0\n",
       "A29                0\n",
       "F E57              0\n",
       "C31                0\n",
       "F                  0\n",
       "B10                0\n",
       "D22                0\n",
       "E45                0\n",
       "B45                0\n",
       "D34                0\n",
       "D38                0\n",
       "D40                0\n",
       "B61                0\n",
       "D43                0\n",
       "B52 B54 B56        0\n",
       "C51                0\n",
       "C97                0\n",
       "C105               0\n",
       "B11                0\n",
       "C116               0\n",
       "C89                0\n",
       "B36                0\n",
       "B26                0\n",
       "C80                0\n",
       "C130               0\n",
       "E39 E41            0\n",
       "C132               0\n",
       "B24                0\n",
       "Name: Cabin, dtype: int64"
      ]
     },
     "execution_count": 147,
     "metadata": {},
     "output_type": "execute_result"
    }
   ],
   "source": [
    "df.Cabin.value_counts()"
   ]
  },
  {
   "cell_type": "markdown",
   "metadata": {},
   "source": [
    "We see that those are the only two people in that Cabin, and as it is each Cabin is occupied by only one person. We can maybe see a correlation between the first letter of Cabin, and Embarked."
   ]
  },
  {
   "cell_type": "code",
   "execution_count": 29,
   "metadata": {},
   "outputs": [
    {
     "data": {
      "text/plain": [
       "S    23\n",
       "C    22\n",
       "Q     0\n",
       "Name: Embarked, dtype: int64"
      ]
     },
     "execution_count": 29,
     "metadata": {},
     "output_type": "execute_result"
    }
   ],
   "source": [
    "pd.set_option('display.max_rows', None)\n",
    "df.loc[df.Deck == 'B'].Embarked.value_counts()"
   ]
  },
  {
   "cell_type": "markdown",
   "metadata": {},
   "source": [
    "By just eyeballing it seems likely that the women come from C more than S."
   ]
  },
  {
   "cell_type": "code",
   "execution_count": 149,
   "metadata": {
    "collapsed": true,
    "jupyter": {
     "outputs_hidden": true
    }
   },
   "outputs": [
    {
     "data": {
      "text/plain": [
       "<matplotlib.axes._subplots.AxesSubplot at 0x11bbaeb70>"
      ]
     },
     "execution_count": 149,
     "metadata": {},
     "output_type": "execute_result"
    },
    {
     "data": {
      "image/png": "[encoded data removed]",
      "text/plain": [
       "<Figure size 432x288 with 1 Axes>"
      ]
     },
     "metadata": {
      "needs_background": "light"
     },
     "output_type": "display_data"
    }
   ],
   "source": [
    "sns.swarmplot(df.Embarked, df.Fare)"
   ]
  },
  {
   "cell_type": "markdown",
   "metadata": {},
   "source": [
    "Fare also doesn't give any information because at Fare 80, we have folks from both S and C. \n",
    "\n",
    "Hence, final decision: Set Embarked to C for these women."
   ]
  },
  {
   "cell_type": "code",
   "execution_count": 179,
   "metadata": {
    "collapsed": true,
    "jupyter": {
     "outputs_hidden": true
    }
   },
   "outputs": [],
   "source": [
    "df.Embarked.fillna(\"C\", inplace = True)"
   ]
  },
  {
   "cell_type": "markdown",
   "metadata": {},
   "source": [
    "Now, we have the problem of missing values in Age. Let's see what all Age is related to. Let's look again at the columns."
   ]
  },
  {
   "cell_type": "code",
   "execution_count": 180,
   "metadata": {
    "collapsed": true,
    "jupyter": {
     "outputs_hidden": true
    }
   },
   "outputs": [
    {
     "data": {
      "text/plain": [
       "Index(['PassengerId', 'Survived', 'Pclass', 'Name', 'Sex', 'Age', 'SibSp',\n",
       "       'Parch', 'Ticket', 'Fare', 'Cabin', 'Embarked', 'Surname', 'Title'],\n",
       "      dtype='object')"
      ]
     },
     "execution_count": 180,
     "metadata": {},
     "output_type": "execute_result"
    }
   ],
   "source": [
    "df.columns"
   ]
  },
  {
   "cell_type": "markdown",
   "metadata": {},
   "source": [
    "We should see why these are missing. Is there a correlation with missing or not (or the numeric value) and Pclass, Name (would have Mr, Mrs, Mister), SibSp, Parch, Fare, Cabin. (We already know that embarked doesn't give much information)"
   ]
  },
  {
   "cell_type": "code",
   "execution_count": 153,
   "metadata": {
    "collapsed": true,
    "jupyter": {
     "outputs_hidden": true
    }
   },
   "outputs": [
    {
     "data": {
      "text/plain": [
       "3    0.276986\n",
       "1    0.138889\n",
       "2    0.059783\n",
       "Name: Pclass, dtype: float64"
      ]
     },
     "execution_count": 153,
     "metadata": {},
     "output_type": "execute_result"
    }
   ],
   "source": [
    "df[pd.isnull(df.Age)].Pclass.value_counts()/df.Pclass.value_counts()"
   ]
  },
  {
   "cell_type": "markdown",
   "metadata": {},
   "source": [
    "The ratio of missing values seems to be increasing as we go from 1 to 3, but not very significantly. "
   ]
  },
  {
   "cell_type": "code",
   "execution_count": 154,
   "metadata": {
    "collapsed": true,
    "jupyter": {
     "outputs_hidden": true
    }
   },
   "outputs": [
    {
     "data": {
      "text/plain": [
       "<matplotlib.axes._subplots.AxesSubplot at 0x11b170080>"
      ]
     },
     "execution_count": 154,
     "metadata": {},
     "output_type": "execute_result"
    },
    {
     "data": {
      "image/png": "[encoded data removed]",
      "text/plain": [
       "<Figure size 432x288 with 1 Axes>"
      ]
     },
     "metadata": {
      "needs_background": "light"
     },
     "output_type": "display_data"
    }
   ],
   "source": [
    "sns.swarmplot(x = df.Pclass, y = df.Age)"
   ]
  },
  {
   "cell_type": "markdown",
   "metadata": {},
   "source": [
    "As we can see there is definitely a correlation between Pclass and Age. People in Pclass 1 tend to be older than people in Pclass 3. "
   ]
  },
  {
   "cell_type": "code",
   "execution_count": 155,
   "metadata": {
    "collapsed": true,
    "jupyter": {
     "outputs_hidden": true
    }
   },
   "outputs": [
    {
     "data": {
      "text/plain": [
       "C    0.223529\n",
       "Q    0.636364\n",
       "S    0.139752\n",
       "Name: Embarked, dtype: float64"
      ]
     },
     "execution_count": 155,
     "metadata": {},
     "output_type": "execute_result"
    }
   ],
   "source": [
    "df[pd.isnull(df.Age)].Embarked.value_counts()/df.Embarked.value_counts()"
   ]
  },
  {
   "cell_type": "markdown",
   "metadata": {},
   "source": [
    "Oh my god! Number of missing values from Queenstown seem very high compared to others. What happened here? "
   ]
  },
  {
   "cell_type": "code",
   "execution_count": 156,
   "metadata": {
    "collapsed": true,
    "jupyter": {
     "outputs_hidden": true
    }
   },
   "outputs": [
    {
     "data": {
      "text/plain": [
       "<matplotlib.axes._subplots.AxesSubplot at 0x11adb53c8>"
      ]
     },
     "execution_count": 156,
     "metadata": {},
     "output_type": "execute_result"
    },
    {
     "data": {
      "image/png": "[encoded data removed]",
      "text/plain": [
       "<Figure size 432x288 with 1 Axes>"
      ]
     },
     "metadata": {
      "needs_background": "light"
     },
     "output_type": "display_data"
    }
   ],
   "source": [
    "sns.swarmplot(x = df.Embarked, y = df.Age)"
   ]
  },
  {
   "cell_type": "markdown",
   "metadata": {},
   "source": [
    "Maybe Queenstown being the last port, the ages were still being recorded. "
   ]
  },
  {
   "cell_type": "code",
   "execution_count": 190,
   "metadata": {
    "collapsed": true,
    "jupyter": {
     "outputs_hidden": true
    }
   },
   "outputs": [
    {
     "data": {
      "text/plain": [
       "<matplotlib.axes._subplots.AxesSubplot at 0x11bd89828>"
      ]
     },
     "execution_count": 190,
     "metadata": {},
     "output_type": "execute_result"
    },
    {
     "data": {
      "image/png": "[encoded data removed]",
      "text/plain": [
       "<Figure size 432x288 with 1 Axes>"
      ]
     },
     "metadata": {
      "needs_background": "light"
     },
     "output_type": "display_data"
    }
   ],
   "source": [
    "sns.swarmplot(df.Title, df.Age)"
   ]
  },
  {
   "cell_type": "markdown",
   "metadata": {},
   "source": [
    "This plot clearly indicates that we need to average over titles atleast. For now we just mean over the title age."
   ]
  },
  {
   "cell_type": "code",
   "execution_count": 199,
   "metadata": {
    "collapsed": true,
    "jupyter": {
     "outputs_hidden": true
    }
   },
   "outputs": [],
   "source": [
    "median_ages = df.groupby([\"Title\", \"Pclass\"]).Age.transform(\"median\")\n",
    "df.Age = df.Age.fillna(median_ages)"
   ]
  },
  {
   "cell_type": "code",
   "execution_count": 203,
   "metadata": {
    "collapsed": true,
    "jupyter": {
     "outputs_hidden": true
    }
   },
   "outputs": [
    {
     "data": {
      "text/html": [
       "<div>\n",
       "<style scoped>\n",
       "    .dataframe tbody tr th:only-of-type {\n",
       "        vertical-align: middle;\n",
       "    }\n",
       "\n",
       "    .dataframe tbody tr th {\n",
       "        vertical-align: top;\n",
       "    }\n",
       "\n",
       "    .dataframe thead th {\n",
       "        text-align: right;\n",
       "    }\n",
       "</style>\n",
       "<table border=\"1\" class=\"dataframe\">\n",
       "  <thead>\n",
       "    <tr style=\"text-align: right;\">\n",
       "      <th></th>\n",
       "      <th>PassengerId</th>\n",
       "      <th>Survived</th>\n",
       "      <th>Pclass</th>\n",
       "      <th>Name</th>\n",
       "      <th>Sex</th>\n",
       "      <th>Age</th>\n",
       "      <th>SibSp</th>\n",
       "      <th>Parch</th>\n",
       "      <th>Ticket</th>\n",
       "      <th>Fare</th>\n",
       "      <th>Cabin</th>\n",
       "      <th>Embarked</th>\n",
       "      <th>Surname</th>\n",
       "      <th>Title</th>\n",
       "    </tr>\n",
       "  </thead>\n",
       "  <tbody>\n",
       "  </tbody>\n",
       "</table>\n",
       "</div>"
      ],
      "text/plain": [
       "Empty DataFrame\n",
       "Columns: [PassengerId, Survived, Pclass, Name, Sex, Age, SibSp, Parch, Ticket, Fare, Cabin, Embarked, Surname, Title]\n",
       "Index: []"
      ]
     },
     "execution_count": 203,
     "metadata": {},
     "output_type": "execute_result"
    }
   ],
   "source": [
    "df.loc[pd.isnull(df.Age)]"
   ]
  },
  {
   "cell_type": "markdown",
   "metadata": {},
   "source": [
    "Okay, so all missing values are dealt with except Cabin which we can't do anything about anyway. Now lets build our pipeline."
   ]
  },
  {
   "cell_type": "code",
   "execution_count": 51,
   "metadata": {},
   "outputs": [
    {
     "name": "stdout",
     "output_type": "stream",
     "text": [
      "185    0.0\n",
      "866    1.0\n",
      "546    1.0\n",
      "143    0.0\n",
      "359    1.0\n",
      "154    0.0\n",
      "353    0.0\n",
      "683    0.0\n",
      "470    0.0\n",
      "270    0.0\n",
      "126    0.0\n",
      "516    1.0\n",
      "519    0.0\n",
      "555    0.0\n",
      "32     1.0\n",
      "864    0.0\n",
      "64     0.0\n",
      "67     0.0\n",
      "626    0.0\n",
      "782    0.0\n",
      "329    1.0\n",
      "98     1.0\n",
      "377    0.0\n",
      "282    0.0\n",
      "794    0.0\n",
      "620    0.0\n",
      "462    0.0\n",
      "28     1.0\n",
      "252    0.0\n",
      "757    0.0\n",
      "290    1.0\n",
      "847    0.0\n",
      "717    1.0\n",
      "159    0.0\n",
      "374    0.0\n",
      "483    1.0\n",
      "198    1.0\n",
      "666    0.0\n",
      "455    1.0\n",
      "836    0.0\n",
      "597    0.0\n",
      "834    0.0\n",
      "265    0.0\n",
      "95     0.0\n",
      "15     1.0\n",
      "444    1.0\n",
      "325    1.0\n",
      "484    1.0\n",
      "485    0.0\n",
      "463    0.0\n",
      "473    1.0\n",
      "393    1.0\n",
      "73     0.0\n",
      "662    0.0\n",
      "399    1.0\n",
      "726    1.0\n",
      "102    0.0\n",
      "613    0.0\n",
      "388    0.0\n",
      "779    1.0\n",
      "451    0.0\n",
      "789    0.0\n",
      "407    1.0\n",
      "420    0.0\n",
      "356    1.0\n",
      "771    0.0\n",
      "797    1.0\n",
      "299    1.0\n",
      "651    1.0\n",
      "800    0.0\n",
      "507    1.0\n",
      "354    0.0\n",
      "623    0.0\n",
      "656    0.0\n",
      "78     1.0\n",
      "174    0.0\n",
      "622    1.0\n",
      "723    0.0\n",
      "840    0.0\n",
      "35     0.0\n",
      "652    0.0\n",
      "580    1.0\n",
      "51     0.0\n",
      "275    1.0\n",
      "827    1.0\n",
      "205    0.0\n",
      "862    1.0\n",
      "688    0.0\n",
      "587    1.0\n",
      "208    1.0\n",
      "22     1.0\n",
      "256    1.0\n",
      "429    1.0\n",
      "278    0.0\n",
      "320    0.0\n",
      "646    0.0\n",
      "228    0.0\n",
      "220    1.0\n",
      "156    1.0\n",
      "619    0.0\n",
      "380    1.0\n",
      "369    1.0\n",
      "162    0.0\n",
      "18     0.0\n",
      "266    0.0\n",
      "23     1.0\n",
      "872    0.0\n",
      "878    0.0\n",
      "226    1.0\n",
      "370    1.0\n",
      "437    1.0\n",
      "58     1.0\n",
      "308    0.0\n",
      "787    0.0\n",
      "260    0.0\n",
      "85     1.0\n",
      "751    1.0\n",
      "40     0.0\n",
      "510    1.0\n",
      "240    0.0\n",
      "47     1.0\n",
      "145    0.0\n",
      "464    0.0\n",
      "517    0.0\n",
      "763    1.0\n",
      "161    1.0\n",
      "803    1.0\n",
      "696    0.0\n",
      "572    1.0\n",
      "39     1.0\n",
      "322    1.0\n",
      "581    1.0\n",
      "590    0.0\n",
      "431    1.0\n",
      "398    0.0\n",
      "247    1.0\n",
      "541    0.0\n",
      "733    0.0\n",
      "127    1.0\n",
      "459    0.0\n",
      "165    1.0\n",
      "818    0.0\n",
      "136    1.0\n",
      "433    0.0\n",
      "577    1.0\n",
      "828    1.0\n",
      "327    1.0\n",
      "737    1.0\n",
      "218    1.0\n",
      "504    1.0\n",
      "315    1.0\n",
      "244    0.0\n",
      "644    1.0\n",
      "83     0.0\n",
      "194    1.0\n",
      "552    0.0\n",
      "721    0.0\n",
      "743    0.0\n",
      "660    1.0\n",
      "802    1.0\n",
      "842    1.0\n",
      "293    0.0\n",
      "479    1.0\n",
      "681    1.0\n",
      "355    0.0\n",
      "24     0.0\n",
      "61     1.0\n",
      "482    0.0\n",
      "698    0.0\n",
      "685    0.0\n",
      "314    0.0\n",
      "655    0.0\n",
      "239    0.0\n",
      "75     0.0\n",
      "298    1.0\n",
      "731    0.0\n",
      "106    1.0\n",
      "112    0.0\n",
      "801    1.0\n",
      "741    0.0\n",
      "158    0.0\n",
      "614    0.0\n",
      "774    1.0\n",
      "373    0.0\n",
      "324    0.0\n",
      "475    0.0\n",
      "94     0.0\n",
      "753    0.0\n",
      "871    1.0\n",
      "497    0.0\n",
      "658    0.0\n",
      "603    0.0\n",
      "435    1.0\n",
      "84     1.0\n",
      "738    0.0\n",
      "839    1.0\n",
      "400    1.0\n",
      "805    0.0\n",
      "557    0.0\n",
      "16     0.0\n",
      "709    1.0\n",
      "684    0.0\n",
      "887    1.0\n",
      "528    0.0\n",
      "477    0.0\n",
      "0      0.0\n",
      "91     0.0\n",
      "415    0.0\n",
      "358    1.0\n",
      "401    0.0\n",
      "529    0.0\n",
      "326    0.0\n",
      "873    0.0\n",
      "372    0.0\n",
      "780    1.0\n",
      "139    0.0\n",
      "1      1.0\n",
      "366    1.0\n",
      "811    0.0\n",
      "211    1.0\n",
      "776    0.0\n",
      "875    1.0\n",
      "634    0.0\n",
      "Name: Survived, dtype: category\n",
      "Categories (2, float64): [0.0, 1.0]\n",
      "[1. 0. 1. 0. 0. 0. 0. 0. 0. 0. 0. 1. 1. 0. 0. 0. 0. 1. 0. 0. 1. 1. 1. 0.\n",
      " 0. 0. 0. 0. 0. 0. 1. 0. 1. 0. 0. 0. 0. 0. 0. 0. 0. 1. 0. 0. 1. 0. 1. 1.\n",
      " 0. 1. 1. 1. 0. 0. 1. 1. 0. 0. 0. 1. 0. 1. 1. 0. 1. 0. 0. 1. 1. 0. 0. 0.\n",
      " 1. 0. 1. 0. 0. 1. 0. 0. 0. 0. 1. 1. 1. 1. 1. 0. 0. 1. 1. 1. 1. 0. 0. 0.\n",
      " 0. 1. 1. 0. 1. 1. 1. 1. 0. 1. 0. 0. 0. 1. 1. 1. 0. 0. 0. 1. 1. 0. 0. 0.\n",
      " 0. 0. 0. 0. 1. 1. 1. 0. 1. 1. 1. 1. 0. 1. 0. 1. 0. 0. 0. 0. 1. 0. 1. 0.\n",
      " 1. 0. 1. 1. 1. 1. 1. 0. 1. 0. 1. 0. 0. 0. 0. 1. 1. 0. 1. 1. 0. 0. 1. 0.\n",
      " 1. 1. 1. 1. 0. 0. 0. 0. 1. 0. 1. 1. 0. 0. 1. 0. 0. 1. 0. 0. 1. 0. 0. 0.\n",
      " 1. 1. 0. 0. 0. 0. 0. 0. 1. 0. 1. 0. 0. 0. 0. 0. 0. 0. 0. 0. 0. 1. 1. 1.\n",
      " 1. 1. 0. 1. 0. 1. 0.]\n",
      "MAE: 185    False\n",
      "866    False\n",
      "546     True\n",
      "143     True\n",
      "359    False\n",
      "154     True\n",
      "353     True\n",
      "683     True\n",
      "470     True\n",
      "270     True\n",
      "126     True\n",
      "516     True\n",
      "519    False\n",
      "555     True\n",
      "32     False\n",
      "864     True\n",
      "64      True\n",
      "67     False\n",
      "626     True\n",
      "782     True\n",
      "329     True\n",
      "98      True\n",
      "377    False\n",
      "282     True\n",
      "794     True\n",
      "620     True\n",
      "462     True\n",
      "28     False\n",
      "252     True\n",
      "757     True\n",
      "290     True\n",
      "847     True\n",
      "717     True\n",
      "159     True\n",
      "374     True\n",
      "483    False\n",
      "198    False\n",
      "666     True\n",
      "455    False\n",
      "836     True\n",
      "597     True\n",
      "834    False\n",
      "265     True\n",
      "95      True\n",
      "15      True\n",
      "444    False\n",
      "325     True\n",
      "484     True\n",
      "485     True\n",
      "463    False\n",
      "473     True\n",
      "393     True\n",
      "73      True\n",
      "662     True\n",
      "399     True\n",
      "726     True\n",
      "102     True\n",
      "613     True\n",
      "388     True\n",
      "779     True\n",
      "451     True\n",
      "789    False\n",
      "407     True\n",
      "420     True\n",
      "356     True\n",
      "771     True\n",
      "797    False\n",
      "299     True\n",
      "651     True\n",
      "800     True\n",
      "507    False\n",
      "354     True\n",
      "623    False\n",
      "656     True\n",
      "78      True\n",
      "174     True\n",
      "622    False\n",
      "723    False\n",
      "840     True\n",
      "35      True\n",
      "652     True\n",
      "580    False\n",
      "51     False\n",
      "275     True\n",
      "827     True\n",
      "205    False\n",
      "862     True\n",
      "688     True\n",
      "587    False\n",
      "208     True\n",
      "22      True\n",
      "256     True\n",
      "429     True\n",
      "278     True\n",
      "320     True\n",
      "646     True\n",
      "228     True\n",
      "220     True\n",
      "156     True\n",
      "619     True\n",
      "380     True\n",
      "369     True\n",
      "162    False\n",
      "18     False\n",
      "266     True\n",
      "23      True\n",
      "872     True\n",
      "878     True\n",
      "226    False\n",
      "370     True\n",
      "437     True\n",
      "58      True\n",
      "308     True\n",
      "787     True\n",
      "260     True\n",
      "85      True\n",
      "751     True\n",
      "40      True\n",
      "510    False\n",
      "240     True\n",
      "47     False\n",
      "145     True\n",
      "464     True\n",
      "517     True\n",
      "763     True\n",
      "161     True\n",
      "803     True\n",
      "696     True\n",
      "572     True\n",
      "39      True\n",
      "322     True\n",
      "581     True\n",
      "590     True\n",
      "431     True\n",
      "398     True\n",
      "247     True\n",
      "541     True\n",
      "733     True\n",
      "127    False\n",
      "459     True\n",
      "165     True\n",
      "818     True\n",
      "136     True\n",
      "433     True\n",
      "577     True\n",
      "828    False\n",
      "327     True\n",
      "737     True\n",
      "218     True\n",
      "504     True\n",
      "315     True\n",
      "244     True\n",
      "644     True\n",
      "83      True\n",
      "194     True\n",
      "552     True\n",
      "721     True\n",
      "743     True\n",
      "660    False\n",
      "802     True\n",
      "842     True\n",
      "293     True\n",
      "479     True\n",
      "681     True\n",
      "355     True\n",
      "24      True\n",
      "61      True\n",
      "482     True\n",
      "698    False\n",
      "685    False\n",
      "314    False\n",
      "655    False\n",
      "239     True\n",
      "75      True\n",
      "298    False\n",
      "731     True\n",
      "106     True\n",
      "112     True\n",
      "801     True\n",
      "741    False\n",
      "158     True\n",
      "614     True\n",
      "774     True\n",
      "373     True\n",
      "324     True\n",
      "475    False\n",
      "94      True\n",
      "753     True\n",
      "871     True\n",
      "497     True\n",
      "658     True\n",
      "603     True\n",
      "435     True\n",
      "84      True\n",
      "738     True\n",
      "839    False\n",
      "400    False\n",
      "805     True\n",
      "557     True\n",
      "16      True\n",
      "709     True\n",
      "684     True\n",
      "887     True\n",
      "528     True\n",
      "477     True\n",
      "0       True\n",
      "91      True\n",
      "415     True\n",
      "358    False\n",
      "401     True\n",
      "529     True\n",
      "326     True\n",
      "873     True\n",
      "372    False\n",
      "780     True\n",
      "139    False\n",
      "1       True\n",
      "366     True\n",
      "811     True\n",
      "211     True\n",
      "776     True\n",
      "875     True\n",
      "634     True\n",
      "Name: Survived, dtype: bool\n"
     ]
    }
   ],
   "source": [
    "from sklearn.ensemble import RandomForestRegressor\n",
    "from sklearn.metrics import accuracy_score\n",
    "from sklearn.impute import SimpleImputer\n",
    "from sklearn.preprocessing import OneHotEncoder, LabelEncoder\n",
    "from sklearn.compose import ColumnTransformer\n",
    "\n",
    "\n",
    "numerical_transformer = SimpleImputer(strategy='mean')\n",
    "\n",
    "categorical_transformer = Pipeline(steps=[\n",
    "    ('imputer', SimpleImputer(strategy='most_frequent')),\n",
    "    ('onehot', OneHotEncoder(handle_unknown='ignore'))\n",
    "])\n",
    "\n",
    "\n",
    "preprocessor = ColumnTransformer(\n",
    "    transformers=[\n",
    "        ('cat', categorical_transformer, [\"Sex\", \"Title\", \"Embarked\", \"Deck\", \"Pclass\"]),\n",
    "        ('num', numerical_transformer, [\"Age\", \"Fare\", \"SibSp\", \"Parch\"])\n",
    "    ])\n",
    "\n",
    "model = RandomForestRegressor(n_estimators=1, random_state=0)\n",
    "\n",
    "my_pipeline = Pipeline(steps=[('preprocessor', preprocessor),\n",
    "                              ('model', model)\n",
    "                             ])\n",
    "\n",
    "final_X_train = df_train[[\"Pclass\", \"Sex\", \"Age\", \"Title\", \"SibSp\", \"Parch\", \"Embarked\", \"Fare\", \"Deck\"]]\n",
    "y_train = df_train[\"Survived\"]\n",
    "final_X_dev = df_dev[[\"Pclass\", \"Sex\", \"Age\", \"Title\", \"SibSp\", \"Parch\", \"Embarked\", \"Fare\", \"Deck\"]]\n",
    "y_dev = df_dev[\"Survived\"]\n",
    "\n",
    "my_pipeline.fit(final_X_train, y_train)\n",
    "\n",
    "# Preprocessing of validation data, get predictions\n",
    "preds = np.round(list(my_pipeline.predict(final_X_dev)))\n",
    "\n",
    "# Evaluate the model\n",
    "from sklearn.model_selection import cross_val_score\n",
    "scores = -1 * cross_val_score(my_pipeline, X, y,\n",
    "                              cv=5,\n",
    "                              scoring='neg_mean_absolute_error')\n"
   ]
  },
  {
   "cell_type": "code",
   "execution_count": null,
   "metadata": {
    "collapsed": true,
    "jupyter": {
     "outputs_hidden": true
    }
   },
   "outputs": [],
   "source": []
  }
 ],
 "metadata": {
  "kernelspec": {
   "display_name": "venv",
   "language": "python",
   "name": "venv"
  },
  "language_info": {
   "codemirror_mode": {
    "name": "ipython",
    "version": 3
   },
   "file_extension": ".py",
   "mimetype": "text/x-python",
   "name": "python",
   "nbconvert_exporter": "python",
   "pygments_lexer": "ipython3",
   "version": "3.6.1"
  }
 },
 "nbformat": 4,
 "nbformat_minor": 4
}
